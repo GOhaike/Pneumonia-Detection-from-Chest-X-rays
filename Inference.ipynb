{
 "cells": [
  {
   "cell_type": "markdown",
   "metadata": {},
   "source": [
    "\n",
    "### AI Model Inference for classification of present of Pneumonia "
   ]
  },
  {
   "cell_type": "markdown",
   "metadata": {},
   "source": [
    "#### Load the Libraries for testing our Model with the Group Truth for FDA Approval "
   ]
  },
  {
   "cell_type": "code",
   "execution_count": 4,
   "metadata": {},
   "outputs": [],
   "source": [
    "import numpy as np\n",
    "import pandas as pd\n",
    "import pydicom\n",
    "import matplotlib.pyplot as plt\n",
    "import keras \n",
    "\n",
    "import glob\n",
    "import os\n",
    "from skimage import data, color\n",
    "from PIL import Image\n",
    "from skimage import io\n",
    "from itertools import chain\n",
    "from random import sample \n",
    "import scipy\n",
    "import seaborn as sns\n",
    "from random import sample\n",
    "from keras.models import load_model\n",
    "from keras.models import model_from_json\n",
    "from skimage.transform import rescale, resize, downscale_local_mean\n",
    "\n",
    "%matplotlib inline"
   ]
  },
  {
   "cell_type": "markdown",
   "metadata": {},
   "source": [
    "#### Read all DICOM files into a list to visual check "
   ]
  },
  {
   "cell_type": "code",
   "execution_count": 5,
   "metadata": {},
   "outputs": [],
   "source": [
    "mydicoms = glob.glob(\"*.dcm\")"
   ]
  },
  {
   "cell_type": "code",
   "execution_count": 6,
   "metadata": {},
   "outputs": [
    {
     "data": {
      "text/plain": [
       "(0008, 0016) SOP Class UID                       UI: Secondary Capture Image Storage\n",
       "(0008, 0018) SOP Instance UID                    UI: 1.3.6.1.4.1.11129.5.5.153751009835107614666834563294684339746480\n",
       "(0008, 0060) Modality                            CS: 'DX'\n",
       "(0008, 1030) Study Description                   LO: 'Cardiomegaly'\n",
       "(0010, 0020) Patient ID                          LO: '1'\n",
       "(0010, 0040) Patient's Sex                       CS: 'M'\n",
       "(0010, 1010) Patient's Age                       AS: '58'\n",
       "(0018, 0015) Body Part Examined                  CS: 'CHEST'\n",
       "(0018, 5100) Patient Position                    CS: 'AP'\n",
       "(0020, 000d) Study Instance UID                  UI: 1.3.6.1.4.1.11129.5.5.111396399361969898205364400549799252857604\n",
       "(0020, 000e) Series Instance UID                 UI: 1.3.6.1.4.1.11129.5.5.195628213694300498946760767481291263511724\n",
       "(0028, 0002) Samples per Pixel                   US: 1\n",
       "(0028, 0004) Photometric Interpretation          CS: 'MONOCHROME2'\n",
       "(0028, 0010) Rows                                US: 1024\n",
       "(0028, 0011) Columns                             US: 1024\n",
       "(0028, 0100) Bits Allocated                      US: 8\n",
       "(0028, 0101) Bits Stored                         US: 8\n",
       "(0028, 0102) High Bit                            US: 7\n",
       "(0028, 0103) Pixel Representation                US: 0\n",
       "(7fe0, 0010) Pixel Data                          OW: Array of 1048576 elements"
      ]
     },
     "execution_count": 6,
     "metadata": {},
     "output_type": "execute_result"
    }
   ],
   "source": [
    "dcm1 = pydicom.dcmread(mydicoms[0])\n",
    "dcm1"
   ]
  },
  {
   "cell_type": "markdown",
   "metadata": {},
   "source": [
    "### Image Processing "
   ]
  },
  {
   "cell_type": "markdown",
   "metadata": {},
   "source": [
    "#### First conduct an image check to confirm the model is considering only the chest x-ray for classification.\n",
    "This function reads in a .dcm file, checks the important fields for our device, and returns a numpy array of just the imaging data"
   ]
  },
  {
   "cell_type": "code",
   "execution_count": 20,
   "metadata": {},
   "outputs": [],
   "source": [
    "def check_dicom(filename): \n",
    "    print('Load file {} ...'.format(filename))\n",
    "    ds = pydicom.dcmread(filename)\n",
    "    if (ds.BodyPartExamined !='CHEST') | (ds.Modality !='DX') | (ds.PatientPosition not in ['PA','AP']):\n",
    "        print('The model is not valid because the of image position, the image type or the body part are not OK')\n",
    "        img = None\n",
    "    else:    \n",
    "        img = ds.pixel_array\n",
    "        return img"
   ]
  },
  {
   "cell_type": "markdown",
   "metadata": {},
   "source": [
    "**This function takes the numpy array output by check_dicom and runs the appropriate pre-processing needed for our model input**"
   ]
  },
  {
   "cell_type": "code",
   "execution_count": 21,
   "metadata": {},
   "outputs": [],
   "source": [
    "def preprocess_image(img,img_mean,img_std,img_size): \n",
    "    img=img/255.0  \n",
    "    img = (img - img_mean)/img_std\n",
    "    proc_img = np.resize(img, IMG_SIZE)        \n",
    "    return proc_img"
   ]
  },
  {
   "cell_type": "markdown",
   "metadata": {},
   "source": [
    "**Load the model with weights of our trained from the build and train section and compile it.This will make a great impact to confirm how efficient our AI is when compared to the ground Truth from the radiologist** "
   ]
  },
  {
   "cell_type": "code",
   "execution_count": 22,
   "metadata": {},
   "outputs": [],
   "source": [
    "def load_model(model_path, weight_path):\n",
    "    # todo\n",
    "    json_file = open(model_path, 'r')\n",
    "    model_json = json_file.read()\n",
    "    json_file.close()\n",
    "    model = model_from_json(model_json)\n",
    "    model.load_weights(weight_path)\n",
    "    return model"
   ]
  },
  {
   "cell_type": "markdown",
   "metadata": {},
   "source": [
    "**Predict the model using our best thresholds from FI scores to predict whether or not the image shows the presence of Pneumonia using our trained model. The choice of your thresholds determines how accurate your AI performs.**"
   ]
  },
  {
   "cell_type": "code",
   "execution_count": 23,
   "metadata": {},
   "outputs": [],
   "source": [
    "def predict_image(model, img, thresh): \n",
    "   \n",
    "    value = model.predict(img)\n",
    "    if value > thresh:\n",
    "        print('Pneumonia Present')\n",
    "    else:\n",
    "        print(\"No Pneumonia\")"
   ]
  },
  {
   "cell_type": "markdown",
   "metadata": {},
   "source": [
    "**Finally, lets's test our model with the test DICOM files to classify X-rays images to confirm the presence or absence of Pneumonia**"
   ]
  },
  {
   "cell_type": "code",
   "execution_count": 24,
   "metadata": {},
   "outputs": [
    {
     "name": "stdout",
     "output_type": "stream",
     "text": [
      "Load file test1.dcm ...\n",
      "No Pneumonia\n",
      "Load file test2.dcm ...\n",
      "Pneumonia Present\n",
      "Load file test3.dcm ...\n",
      "Pneumonia Present\n",
      "Load file test4.dcm ...\n",
      "The model is not valid because the of image position, the image type or the body part are not OK\n",
      "Load file test5.dcm ...\n",
      "The model is not valid because the of image position, the image type or the body part are not OK\n",
      "Load file test6.dcm ...\n",
      "The model is not valid because the of image position, the image type or the body part are not OK\n",
      "None\n"
     ]
    }
   ],
   "source": [
    "test_dicoms = ['test1.dcm','test2.dcm','test3.dcm','test4.dcm','test5.dcm','test6.dcm']\n",
    "\n",
    "model_path = 'my_model.json'\n",
    "weight_path = r'xray_class_my_model.best.hdf5'\n",
    "\n",
    "IMG_SIZE=(1,224,224,3)\n",
    "img_mean = 0.41373453\n",
    "img_std = 0.23411134\n",
    "\n",
    "my_model = load_model(model_path, weight_path)\n",
    "thresh = 0.54\n",
    "\n",
    "for i in test_dicoms:\n",
    "    img = np.array([])\n",
    "    img = check_dicom(i)\n",
    "    if img is None:\n",
    "        continue\n",
    "    img_proc = preprocess_image(img,img_mean,img_std,IMG_SIZE)\n",
    "    pred = predict_image(my_model,img_proc,thresh)\n",
    "print(pred)"
   ]
  },
  {
   "cell_type": "markdown",
   "metadata": {},
   "source": [
    "#### As can be seen, this model was able to classify the present of pneumonia, the cases with no pneumonia and identify other image types."
   ]
  },
  {
   "cell_type": "markdown",
   "metadata": {},
   "source": [
    "### This concludes our Inference for FDA Approval reviews. Please see the FDA approval request PDF file for more details"
   ]
  },
  {
   "cell_type": "code",
   "execution_count": null,
   "metadata": {},
   "outputs": [],
   "source": []
  }
 ],
 "metadata": {
  "kernelspec": {
   "display_name": "Python 3",
   "language": "python",
   "name": "python3"
  },
  "language_info": {
   "codemirror_mode": {
    "name": "ipython",
    "version": 3
   },
   "file_extension": ".py",
   "mimetype": "text/x-python",
   "name": "python",
   "nbconvert_exporter": "python",
   "pygments_lexer": "ipython3",
   "version": "3.7.6"
  }
 },
 "nbformat": 4,
 "nbformat_minor": 2
}
